{
 "cells": [
  {
   "cell_type": "markdown",
   "metadata": {},
   "source": [
    "# “火炬上的深度学习\"第一次大作业\n",
    "\n",
    "在这个作业中，你需要半独立地利用人工神经网络搭建一个手写数字识别器\n",
    "\n",
    "本文件是集智AI学园http://campus.swarma.org 出品的“火炬上的深度学习”第II课的配套源代码"
   ]
  },
  {
   "cell_type": "code",
   "execution_count": 118,
   "metadata": {
    "collapsed": true
   },
   "outputs": [],
   "source": [
    "\n",
    "\"\"\"简单的 LeNet-5类型的卷积神经网络模型，MNIST例子.\n",
    "\"\"\"\n",
    "\n",
    "#所有依赖包\n",
    "\n",
    "import gzip\n",
    "import os\n",
    "import sys\n",
    "\n",
    "import numpy as np\n",
    "from six.moves import urllib\n",
    "import torch\n",
    "from torch.autograd import Variable\n",
    "import torch.optim as optim\n",
    "\n",
    "import matplotlib.pylab as plt\n",
    "\n",
    "#定义一系列常数\n",
    "SOURCE_URL = 'http://yann.lecun.com/exdb/mnist/' #图像数据如果没下载，可以从这个地址下载\n",
    "WORK_DIRECTORY = 'data' #存储的路径名\n",
    "IMAGE_SIZE = 28 #每张图片的大小尺寸\n",
    "NUM_CHANNELS = 1  #每张图片的通道数\n",
    "PIXEL_DEPTH = 255 #像素的深度0-255\n",
    "NUM_LABELS = 10 #手写数字，一共十种\n",
    "\n",
    "%matplotlib inline\n",
    "\n",
    "CAN_GPU=torch.cuda.is_available()"
   ]
  },
  {
   "cell_type": "markdown",
   "metadata": {},
   "source": [
    "# 读取MINST图形文件"
   ]
  },
  {
   "cell_type": "code",
   "execution_count": 119,
   "metadata": {},
   "outputs": [
    {
     "name": "stdout",
     "output_type": "stream",
     "text": [
      "Extracting data/train-images-idx3-ubyte.gz\n",
      "Extracting data/train-labels-idx1-ubyte.gz\n",
      "Extracting data/t10k-images-idx3-ubyte.gz\n",
      "Extracting data/t10k-labels-idx1-ubyte.gz\n"
     ]
    }
   ],
   "source": [
    "#下载图像文件，如果文件已经存在，那么就不下载。\n",
    "def maybe_download(filename):\n",
    "    \"\"\"Download the data from Yann's website, unless it's already here.\"\"\"\n",
    "    if not os.path.isdir(WORK_DIRECTORY):\n",
    "        os.mkdir(WORK_DIRECTORY)\n",
    "    filepath = os.path.join(WORK_DIRECTORY, filename)\n",
    "    if not os.path.exists(filepath):\n",
    "        filepath, _ = urllib.request.urlretrieve(SOURCE_URL + filename, filepath)\n",
    "        size = os.path.getsize(filepath)\n",
    "        print('Successfully downloaded', filename, size, 'bytes.')\n",
    "    return filepath\n",
    "# Get the data.\n",
    "train_data_filename = maybe_download('train-images-idx3-ubyte.gz')\n",
    "train_labels_filename = maybe_download('train-labels-idx1-ubyte.gz')\n",
    "test_data_filename = maybe_download('t10k-images-idx3-ubyte.gz')\n",
    "test_labels_filename = maybe_download('t10k-labels-idx1-ubyte.gz')\n",
    "\n",
    "def extract_data(filename, num_images):\n",
    "    # filename: 文件存放的路径，num_images: 读入的图片个数\n",
    "    \"\"\"将图像解压缩展开，读入成一个4维的张量： [image index（图像的编码）, y（纵坐标）, x（横坐标）, channels（通道）].\n",
    "    我们将数组中的数值范围从原来的[0, 255]降低到了[-0.5, 0.5]范围内\n",
    "    \"\"\"\n",
    "    print('Extracting', filename)\n",
    "    with gzip.open(filename) as bytestream:\n",
    "        bytestream.read(16)\n",
    "        buf = bytestream.read(IMAGE_SIZE * IMAGE_SIZE * num_images * NUM_CHANNELS)\n",
    "        data = np.frombuffer(buf, dtype=np.uint8).astype(np.float32)\n",
    "        data = (data - (PIXEL_DEPTH / 2.0)) / PIXEL_DEPTH\n",
    "        data = data.reshape(num_images, NUM_CHANNELS, IMAGE_SIZE, IMAGE_SIZE)\n",
    "        return data\n",
    "\n",
    "def extract_labels(filename, num_images):\n",
    "    \"\"\"将label的数据文件解压缩，并将label读成64位的整数\"\"\"\n",
    "    print('Extracting', filename)\n",
    "    with gzip.open(filename) as bytestream:\n",
    "        bytestream.read(8)\n",
    "        buf = bytestream.read(1 * num_images)\n",
    "        labels = np.frombuffer(buf, dtype=np.uint8).astype(np.int64)\n",
    "    return labels\n",
    "\n",
    "# 将数据解压缩并存储到数组中，60000张图片，60000个label，测试集中有10000张图片\n",
    "train_data = extract_data(train_data_filename, 60000)\n",
    "train_X = train_data.reshape(len(train_data), -1)\n",
    "train_labels = extract_labels(train_labels_filename, 60000)\n",
    "train_Y = train_labels\n",
    "test_data = extract_data(test_data_filename, 10000)\n",
    "test_X = test_data.reshape(len(test_data), -1)\n",
    "\n",
    "test_labels = extract_labels(test_labels_filename, 10000)\n",
    "test_Y = test_labels\n",
    "# train_X.shape, train_Y.shape\n",
    "\n",
    "# train_X, train_Y 中分别存储的是向量化的训练数据与标签\n",
    "# test_X, test_Y 中分别存储的是向量化的测试数据与标签\n",
    "# train_X的维度是60000个样本，784个分量的图像向量\n",
    "# test_X的维度是10000个样本，784个分量的图像向量"
   ]
  },
  {
   "cell_type": "markdown",
   "metadata": {},
   "source": [
    "# 在这里写下你自己的代码"
   ]
  },
  {
   "cell_type": "markdown",
   "metadata": {},
   "source": [
    "### 第一步：定义神经网络，提示，可以使用简单的torch.nn.SequentialModel\n",
    "\n",
    "本文件是集智AI学园http://campus.swarma.org 出品的“火炬上的深度学习”第II课的配套源代码"
   ]
  },
  {
   "cell_type": "code",
   "execution_count": 120,
   "metadata": {
    "collapsed": true
   },
   "outputs": [],
   "source": [
    "# 提示：需要考虑好网络有几层，每一层有多少个节点\n",
    "net = torch.nn.Sequential(\n",
    "   torch.nn.Linear(784, 150),\n",
    "   torch.nn.Sigmoid(),\n",
    "   torch.nn.Linear(150, 30),\n",
    "   torch.nn.Sigmoid(),\n",
    "   torch.nn.Linear(30, 10),\n",
    ")\n",
    "# imgIdx=0\n",
    "# plt.imshow(train_data[imgIdx,0,:])\n",
    "# train_Y[imgIdx]\n",
    "# 问题：如果要增加新的神经网络层怎么办？\n",
    "\n",
    "if CAN_GPU:\n",
    "    net.cuda()"
   ]
  },
  {
   "cell_type": "markdown",
   "metadata": {},
   "source": [
    "### 第二步：构造损失函数和优化器"
   ]
  },
  {
   "cell_type": "code",
   "execution_count": 121,
   "metadata": {
    "collapsed": true
   },
   "outputs": [],
   "source": [
    "cost = torch.nn.CrossEntropyLoss()\n",
    "optimizer = torch.optim.SGD(net.parameters(), lr = 0.1)"
   ]
  },
  {
   "cell_type": "markdown",
   "metadata": {},
   "source": [
    "### 第三步：开始训练循环"
   ]
  },
  {
   "cell_type": "code",
   "execution_count": 122,
   "metadata": {
    "collapsed": true
   },
   "outputs": [],
   "source": [
    "def error_rate(predictions, labels):\n",
    "    \"\"\"计算预测错误率的函数，其中predictions是模型给出的一组预测结果，labels是数据之中的正确答案\"\"\"\n",
    "    predictions = np.argmax(predictions, 1)\n",
    "    return 100.0 - (100.0 * np.sum( predictions == labels) / predictions.shape[0])"
   ]
  },
  {
   "cell_type": "code",
   "execution_count": 123,
   "metadata": {},
   "outputs": [
    {
     "name": "stdout",
     "output_type": "stream",
     "text": [
      "Age:0\tER:83.4299484719261\tLoss:2.2828428745269775\n",
      "Age:50\tER:2.650808457711443\tLoss:0.09549743682146072\n",
      "Age:100\tER:1.0133484363894811\tLoss:0.04057461768388748\n",
      "Age:150\tER:0.2953980099502488\tLoss:0.019148457795381546\n",
      "Age:200\tER:0.07051794598436391\tLoss:0.009640747681260109\n",
      "Age:250\tER:0.02221037668798864\tLoss:0.0054772961884737015\n"
     ]
    }
   ],
   "source": [
    "# 提示：有两重循环，最外面层是多少次的训练，里层为对数据批次（batch）的循环\n",
    "\n",
    "train_errors = []\n",
    "train_losses = []\n",
    "# 神经网络训练循环\n",
    "batch_size = 128\n",
    "for i in range(1000):\n",
    "    # 每128个样本点被划分为一个撮，在循环的时候一撮一撮地读取\n",
    "    batch_loss = []\n",
    "    batch_error = []\n",
    "    # start和end分别是提取一个batch数据的起始和终止下标\n",
    "    for start in range(0, len(train_X), batch_size):\n",
    "        end = start + batch_size if start + batch_size < len(train_X) else len(train_X)\n",
    "        if CAN_GPU:\n",
    "            #从训练数据train_X中提取数据\n",
    "            xx = Variable(torch.FloatTensor(train_X[start:end])).cuda() \n",
    "            #从训练数据train_Y中提取标签，注意标签数据为整数，因此相应的tensor也要为long\n",
    "            yy = Variable(torch.LongTensor(train_Y[start:end])).cuda()  \n",
    "        else:\n",
    "            xx = Variable(torch.FloatTensor(train_X[start:end]))\n",
    "            yy = Variable(torch.LongTensor(train_Y[start:end]))\n",
    "            \n",
    "        \n",
    "        predict = net(xx) #用神经网络进行预测\n",
    "        \n",
    "        optimizer.zero_grad() #清空梯度\n",
    "        loss = cost(predict, yy) #计算损失函数（交叉熵）\n",
    "        loss.backward() #开始反向传播\n",
    "        optimizer.step() #开始更新梯度\n",
    "        \n",
    "        if CAN_GPU:\n",
    "            bloss = loss.data.cpu().numpy()\n",
    "            berror = error_rate(predict.data.cpu().numpy(),yy.data.cpu().numpy())\n",
    "        else:\n",
    "            bloss = loss.data.numpy()\n",
    "            berror = error_rate(predict.data.numpy(),yy.data.numpy())\n",
    "        batch_loss.append(bloss)    \n",
    "        batch_error.append(berror)\n",
    "    \n",
    "    # 每隔100步输出一下损失值（loss）\n",
    "    if i % 50==0:\n",
    "        train_losses.append(np.mean(batch_loss))\n",
    "        train_errors.append(np.mean(batch_error))\n",
    "        print(\"Age:{0}\\tER:{1}\\tLoss:{2}\".format(i, train_errors[-1], train_losses[-1]))\n",
    "        \n",
    "    if (len(train_errors) > 2) and (train_errors[-2] - train_errors[-1] < 0.05):\n",
    "        break"
   ]
  },
  {
   "cell_type": "markdown",
   "metadata": {},
   "source": [
    "### 请在这里写下你自己的回答"
   ]
  },
  {
   "cell_type": "code",
   "execution_count": 124,
   "metadata": {},
   "outputs": [
    {
     "data": {
      "text/plain": [
       "<matplotlib.legend.Legend at 0x7fc78979d5f8>"
      ]
     },
     "execution_count": 124,
     "metadata": {},
     "output_type": "execute_result"
    },
    {
     "data": {
      "image/png": "[encoded data removed]",
      "text/plain": [
       "<matplotlib.figure.Figure at 0x7fc7897d1550>"
      ]
     },
     "metadata": {},
     "output_type": "display_data"
    }
   ],
   "source": [
    "# 请绘制上面训练过程的损失函数曲线，以及'''错误率曲线'''！！！\n",
    "plt.plot(np.arange(len(train_losses))*50, train_losses, label = 'Cross Entropy')\n",
    "plt.plot(np.arange(len(train_losses))*50, np.array(train_errors) / 100.0, label = 'Error Rate')\n",
    "plt.xlabel('epoch')\n",
    "plt.ylabel('Cross Entropy/Error rates')\n",
    "plt.legend()"
   ]
  },
  {
   "cell_type": "markdown",
   "metadata": {},
   "source": [
    "### 第四步：在测试集上测试模型"
   ]
  },
  {
   "cell_type": "code",
   "execution_count": 125,
   "metadata": {
    "collapsed": true
   },
   "outputs": [],
   "source": [
    "# 定义一个专门计算分类错误率的函数，它的基本思想是，对于预测向量predictions的每一行，\n",
    "# 取最大的那个元素的下标，与标签labels中的元素做比较\n",
    "#def error_rate(predictions, labels):\n",
    "#    \"\"\"计算预测错误率的函数，其中predictions是模型给出的一组预测结果，labels是数据之中的正确答案\"\"\"\n",
    "#    predictions = np.argmax(predictions, 1)\n",
    "#    return 100.0 - (\n",
    "#      100.0 *\n",
    "#      np.sum( predictions == labels) /\n",
    "#      predictions.shape[0])"
   ]
  },
  {
   "cell_type": "code",
   "execution_count": 126,
   "metadata": {},
   "outputs": [
    {
     "name": "stdout",
     "output_type": "stream",
     "text": [
      "Age:1\tER:2.0900000000000034\n",
      "Age:2\tER:2.1111111111111143\n",
      "Age:3\tER:2.102040816326536\n",
      "Age:4\tER:2.1030927835051614\n",
      "Age:5\tER:2.09375\n",
      "Age:6\tER:2.094736842105263\n",
      "Age:7\tER:2.1063829787234027\n",
      "Age:8\tER:2.0967741935483843\n",
      "Age:9\tER:2.108695652173907\n",
      "Age:10\tER:2.120879120879124\n",
      "Age:11\tER:2.0888888888888886\n",
      "Age:12\tER:2.089887640449433\n",
      "Age:13\tER:2.068181818181813\n",
      "Age:14\tER:2.0344827586206833\n",
      "Age:15\tER:2.0116279069767415\n",
      "Age:16\tER:2.023529411764713\n",
      "Age:17\tER:1.9642857142857082\n",
      "Age:18\tER:1.9518072289156692\n",
      "Age:19\tER:1.9268292682926784\n",
      "Age:20\tER:1.9506172839506206\n",
      "Age:21\tER:1.9124999999999943\n",
      "Age:22\tER:1.8227848101265778\n",
      "Age:23\tER:1.8205128205128176\n",
      "Age:24\tER:1.818181818181813\n",
      "Age:25\tER:1.7894736842105203\n",
      "Age:26\tER:1.7199999999999989\n",
      "Age:27\tER:1.7297297297297263\n",
      "Age:28\tER:1.657534246575338\n",
      "Age:29\tER:1.625\n",
      "Age:30\tER:1.6197183098591523\n",
      "Age:31\tER:1.5714285714285694\n",
      "Age:32\tER:1.5652173913043441\n",
      "Age:33\tER:1.57352941176471\n",
      "Age:34\tER:1.5820895522388128\n",
      "Age:35\tER:1.606060606060609\n",
      "Age:36\tER:1.6153846153846132\n",
      "Age:37\tER:1.515625\n",
      "Age:38\tER:1.5238095238095184\n",
      "Age:39\tER:1.4354838709677438\n",
      "Age:40\tER:1.3934426229508148\n",
      "Age:41\tER:1.3499999999999943\n",
      "Age:42\tER:1.3220338983050794\n",
      "Age:43\tER:1.3103448275862064\n",
      "Age:44\tER:1.2807017543859587\n",
      "Age:45\tER:1.2857142857142918\n",
      "Age:46\tER:1.2363636363636346\n",
      "Age:47\tER:1.1851851851851904\n",
      "Age:48\tER:1.1886792452830122\n",
      "Age:49\tER:1.1538461538461604\n",
      "Age:50\tER:1.0980392156862706\n",
      "Age:51\tER:1.0799999999999983\n",
      "Age:52\tER:1.1020408163265358\n",
      "Age:53\tER:1.1041666666666714\n",
      "Age:54\tER:1.1276595744680833\n",
      "Age:55\tER:1.1304347826087024\n",
      "Age:56\tER:1.13333333333334\n",
      "Age:57\tER:1.1590909090909065\n",
      "Age:58\tER:1.139534883720927\n",
      "Age:59\tER:1.1428571428571388\n",
      "Age:60\tER:1.146341463414629\n",
      "Age:61\tER:1.0750000000000028\n",
      "Age:62\tER:1.0769230769230802\n",
      "Age:63\tER:1.0789473684210549\n",
      "Age:64\tER:1.1081081081081123\n",
      "Age:65\tER:1.1388888888888857\n",
      "Age:66\tER:1.1428571428571388\n",
      "Age:67\tER:0.941176470588232\n",
      "Age:68\tER:0.8484848484848442\n",
      "Age:69\tER:0.84375\n",
      "Age:70\tER:0.8709677419354875\n",
      "Age:71\tER:0.9000000000000057\n",
      "Age:72\tER:0.9310344827586192\n",
      "Age:73\tER:0.9642857142857082\n",
      "Age:74\tER:0.9259259259259238\n",
      "Age:75\tER:0.961538461538467\n",
      "Age:76\tER:0.9599999999999937\n",
      "Age:77\tER:1.0\n",
      "Age:78\tER:1.0434782608695627\n",
      "Age:79\tER:1.0909090909090935\n",
      "Age:80\tER:1.1428571428571388\n",
      "Age:81\tER:1.2000000000000028\n",
      "Age:82\tER:1.2105263157894797\n",
      "Age:83\tER:1.2777777777777715\n",
      "Age:84\tER:1.294117647058826\n",
      "Age:85\tER:1.3125\n",
      "Age:86\tER:1.2666666666666657\n",
      "Age:87\tER:1.2857142857142918\n",
      "Age:88\tER:1.3846153846153868\n",
      "Age:89\tER:1.5\n",
      "Age:90\tER:1.6363636363636402\n",
      "Age:91\tER:1.7999999999999972\n",
      "Age:92\tER:1.5555555555555571\n",
      "Age:93\tER:1.75\n",
      "Age:94\tER:1.8571428571428612\n",
      "Age:95\tER:2.1666666666666714\n",
      "Age:96\tER:2.5999999999999943\n",
      "Age:97\tER:2.75\n",
      "Age:98\tER:3.0\n",
      "Age:99\tER:2.0\n",
      "Age:100\tER:1.0\n",
      "平均错误率：1.5160%\n"
     ]
    }
   ],
   "source": [
    "# 分多个batch计算测试结果\n",
    "test_errors = []\n",
    "test_losses = []\n",
    "i = 0\n",
    "test_batch_size=100\n",
    "\n",
    "for start in range(0, len(test_X), test_batch_size):\n",
    "    \n",
    "    end1 = start + test_batch_size if start + test_batch_size < len(test_X) else len(test_X)\n",
    "    i += 1\n",
    "    if CAN_GPU:\n",
    "        x = Variable(torch.FloatTensor(test_X[start:end])).cuda()\n",
    "        y = Variable(torch.LongTensor(test_Y[start:end])).cuda()\n",
    "    else:\n",
    "        x = Variable(torch.FloatTensor(test_X[start:end]))\n",
    "        y = Variable(torch.LongTensor(test_Y[start:end]))\n",
    "        \n",
    "    predictions = net(x)\n",
    "    \n",
    "    \n",
    "    loss = cost(predictions, y)\n",
    "    if CAN_GPU:\n",
    "        test_losses.append(loss.data.cpu().numpy())\n",
    "        test_errors.append(error_rate(predictions.data.cpu().numpy(), y.data.cpu().numpy()))\n",
    "    else:\n",
    "        test_losses.append(loss.data.numpy())\n",
    "        test_errors.append(error_rate(predictions.data.numpy(), y.data.numpy()))\n",
    "    \n",
    "    \n",
    "    print(\"Age:{0}\\tER:{1}\".format(i, test_errors[-1]))\n",
    "\n",
    "print('平均错误率：%.4f%%'%np.mean(test_errors))"
   ]
  },
  {
   "cell_type": "markdown",
   "metadata": {},
   "source": [
    "### 用单个图像进行测试"
   ]
  },
  {
   "cell_type": "code",
   "execution_count": 127,
   "metadata": {
    "collapsed": true,
    "scrolled": true
   },
   "outputs": [],
   "source": [
    "#随便从数据集中读入一张图片，并绘制出来\n",
    "#idx = 100\n",
    "#muteimg = test_data[idx, 0, :, :]\n",
    "#plt.imshow(muteimg)"
   ]
  },
  {
   "cell_type": "code",
   "execution_count": 128,
   "metadata": {
    "collapsed": true
   },
   "outputs": [],
   "source": [
    "# 计算识别结果\n",
    "#x = Variable(torch.FloatTensor(test_X[idx, :].reshape(1, -1)))\n",
    "#predict = net(x)\n",
    "#np.argmax(predict.data.numpy())"
   ]
  },
  {
   "cell_type": "markdown",
   "metadata": {},
   "source": [
    "## 升级版"
   ]
  },
  {
   "cell_type": "markdown",
   "metadata": {},
   "source": [
    "#### 如果你已经运行跑通上面的所有代码，那么请你尝试对其进行更改，让测试集上面的识别错误率进一步下降，看看能不能到1%以下\n",
    "\n",
    "提示：可以考虑增加层的深度\n",
    "\n",
    "本文件是集智AI学园http://campus.swarma.org 出品的“火炬上的深度学习”第II课的配套源代码"
   ]
  },
  {
   "cell_type": "markdown",
   "metadata": {},
   "source": [
    "### 参数测试与总结\n",
    "\n",
    "* 两层linear(150,50) -> 2.0131%\n",
    "* 两层linear(80,40)  -> 2.3602%\n",
    "* 两层linear(100,30)  -> 1.9346%   测试集错误率在每一个batch上表现稳定\n",
    "* 两层linear(120,30)  -> 1.5356%   错误率下降明显\n",
    "* 两层linear(128,32)  -> 1.6536%   错误率下降明显，不到300次迭代两次监测错误率降低小于0.0005\n",
    "* 三层linear(128,32,16)  -> 2.2962%   与两层区别不明显\n",
    "* 两层linear(150,30)  -> 1.4601%   训练集错误率0.02%\n",
    "* 去掉最后一层的sigmoid之后训练速度明显增快，而且错误率下降明显\n"
   ]
  },
  {
   "cell_type": "code",
   "execution_count": null,
   "metadata": {
    "collapsed": true
   },
   "outputs": [],
   "source": []
  }
 ],
 "metadata": {
  "kernelspec": {
   "display_name": "Python 3",
   "language": "python",
   "name": "python3"
  },
  "language_info": {
   "codemirror_mode": {
    "name": "ipython",
    "version": 3
   },
   "file_extension": ".py",
   "mimetype": "text/x-python",
   "name": "python",
   "nbconvert_exporter": "python",
   "pygments_lexer": "ipython3",
   "version": "3.6.2"
  }
 },
 "nbformat": 4,
 "nbformat_minor": 2
}
