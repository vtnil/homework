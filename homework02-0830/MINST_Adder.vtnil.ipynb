{
 "cells": [
  {
   "cell_type": "markdown",
   "metadata": {},
   "source": [
    "# 作业：手写数字加法机\n",
    "\n",
    "本文件是与集智AI学园出品的系列课程“火炬上的深度学习”配套的作业notebook。本作业要求学员构造一个卷积神经网，输入两张手写数字图片，输出这两个数字的和。\n",
    "\n",
    "本文件提供了一个完成做的大框架，学员需要自行修改、添加代码，从而完成任务\n",
    "\n",
    "本文件是集智AI学园http://campus.swarma.org 出品的“火炬上的深度学习”第III课的配套源代码\n"
   ]
  },
  {
   "cell_type": "code",
   "execution_count": 144,
   "metadata": {
    "collapsed": true
   },
   "outputs": [],
   "source": [
    "# 导入所需要的包，请保证torchvision已经在你的环境中安装好\n",
    "import torch\n",
    "import torch.nn as nn\n",
    "from torch.autograd import Variable\n",
    "import torch.optim as optim\n",
    "import torch.nn.functional as F\n",
    "\n",
    "import torchvision.datasets as dsets\n",
    "import torchvision.transforms as transforms\n",
    "\n",
    "import matplotlib.pyplot as plt\n",
    "import numpy as np\n",
    "\n",
    "%matplotlib inline"
   ]
  },
  {
   "cell_type": "code",
   "execution_count": 145,
   "metadata": {},
   "outputs": [
    {
     "name": "stdout",
     "output_type": "stream",
     "text": [
      "数据加载完成\n"
     ]
    }
   ],
   "source": [
    "# 定义需要用到的超参数\n",
    "image_size = 28  #图像的总尺寸28*28\n",
    "num_classes = 10 #标签的种类数\n",
    "batch_size = 64\n",
    "use_gpu=torch.cuda.is_available()\n",
    "\n",
    "# 加载MINIST数据，如果没有下载过，就会在当前路径下新建/data子目录，并把文件存放其中\n",
    "train_dataset = dsets.MNIST(root='./data',  #文件存放路径\n",
    "                            train=True,   #提取训练集\n",
    "                            transform=transforms.ToTensor(),  #将图像转化为Tensor\n",
    "                            download=True)\n",
    "test_dataset = dsets.MNIST(root='./data', \n",
    "                           train=False, \n",
    "                           transform=transforms.ToTensor())\n",
    "\n",
    "\n",
    "# 由于每一个样本需要输入两个图片，因此每一个loader和sampler都有两个\n",
    "# sampler1 = torch.utils.data.sampler.SubsetRandomSampler(np.random.permutation(range(len(train_dataset))))\n",
    "# sampler2 = torch.utils.data.sampler.SubsetRandomSampler(np.random.permutation(range(len(train_dataset))))\n",
    "\n",
    "\n",
    "# 训练数据的两个加载器\n",
    "train_loader1 = torch.utils.data.DataLoader(dataset = train_dataset,\n",
    "                                            batch_size = batch_size,\n",
    "                                            shuffle = True,\n",
    "                                            pin_memory = use_gpu,\n",
    "#                                            sampler = sampler1\n",
    "                                           )\n",
    "train_loader2 = torch.utils.data.DataLoader(dataset = train_dataset,\n",
    "                                            batch_size = batch_size,\n",
    "                                            shuffle = True,\n",
    "                                            pin_memory = use_gpu,\n",
    "#                                            sampler = sampler2\n",
    "                                           )\n",
    "\n",
    "# 校验数据和测试数据都各自有两套\n",
    "val_size = 5000\n",
    "val_indices1 = range(val_size)\n",
    "val_indices2 = np.random.permutation(range(val_size))\n",
    "val_sampler1 = torch.utils.data.sampler.SubsetRandomSampler(val_indices1)\n",
    "val_sampler2 = torch.utils.data.sampler.SubsetRandomSampler(val_indices2)\n",
    "val_loader1 = torch.utils.data.DataLoader(dataset = test_dataset,\n",
    "                                          batch_size = batch_size,\n",
    "                                          shuffle = False,\n",
    "                                          sampler = val_sampler1,\n",
    "                                          pin_memory = use_gpu,\n",
    "                                         )\n",
    "val_loader2 = torch.utils.data.DataLoader(dataset = test_dataset,\n",
    "                                          batch_size = batch_size,\n",
    "                                          shuffle = False,\n",
    "                                          sampler = val_sampler2,\n",
    "                                          pin_memory = use_gpu,\n",
    "                                         )\n",
    "\n",
    "test_indices1 = range(val_size, len(test_dataset))\n",
    "test_indices2 = np.random.permutation(test_indices1)\n",
    "test_sampler1 = torch.utils.data.sampler.SubsetRandomSampler(test_indices1)\n",
    "test_sampler2 = torch.utils.data.sampler.SubsetRandomSampler(test_indices2)\n",
    "test_loader1 = torch.utils.data.DataLoader(dataset = test_dataset,\n",
    "                                           batch_size = batch_size,\n",
    "                                           shuffle = False,\n",
    "                                           sampler = test_sampler1,\n",
    "                                           pin_memory = use_gpu,\n",
    "                                          )\n",
    "test_loader2 = torch.utils.data.DataLoader(dataset = test_dataset,\n",
    "                                           batch_size = batch_size,\n",
    "                                           shuffle = False,\n",
    "                                           sampler = test_sampler2,\n",
    "                                           pin_memory = use_gpu,\n",
    "                                          )\n",
    "print(\"数据加载完成\")"
   ]
  },
  {
   "cell_type": "markdown",
   "metadata": {},
   "source": [
    "# MINST Adder"
   ]
  },
  {
   "cell_type": "markdown",
   "metadata": {},
   "source": [
    "为了实现加法器，需要同时处理两个手写体数字图像，并对它进行相应的图像处理\n",
    "因此，网络的架构为两个卷积神经网络，串联上两个全链接层"
   ]
  },
  {
   "cell_type": "code",
   "execution_count": 146,
   "metadata": {
    "collapsed": true
   },
   "outputs": [],
   "source": [
    "## 定义网络\n",
    "depth = [8, 16]\n",
    "class MINSTAdder(nn.Module):\n",
    "    def __init__(self):\n",
    "        super(MINSTAdder, self).__init__()\n",
    "        #处理第一个图像处理用的卷积网络部件,采用5x5的卷积核\n",
    "        self.net1_conv1 = nn.Conv2d(1, depth[0], 5, padding = 2)\n",
    "        self.net1_conv2 = nn.Conv2d(depth[0], depth[1], 5, padding = 2)\n",
    "        \n",
    "        #处理第二个图像处理用的卷积网络部件,采用5x5的卷积核\n",
    "        self.net2_conv1 = nn.Conv2d(1, depth[0], 5, padding = 2)\n",
    "        self.net2_conv2 = nn.Conv2d(depth[0], depth[1], 5, padding = 2)\n",
    "\n",
    "        #池化方式采用2x2\n",
    "        self.net_pool = nn.MaxPool2d(2, 2)\n",
    "\n",
    "        #后面的全连阶层，两步池化所以整除4\n",
    "        self.fc1 = nn.Linear(2 * image_size // 4 * image_size // 4 * depth[1] , 512)\n",
    "        self.fc2 = nn.Linear(512, 100)\n",
    "        self.fc3 = nn.Linear(100, 20)   # 实际只需要18，故意多设置了几个\n",
    "\n",
    "    def forward(self, x1, x2, training = True):\n",
    "        #第一张图像的处理流程\n",
    "        x1 = F.relu(self.net1_conv1(x1))\n",
    "        x1 = self.net_pool(x1)\n",
    "        x1 = F.relu(self.net1_conv2(x1))\n",
    "        x1 = self.net_pool(x1)\n",
    "        x1 = x1.view(-1, image_size // 4 * image_size // 4 * depth[1])\n",
    "        \n",
    "        #第二张图像的处理流程\n",
    "        x2 = F.relu(self.net2_conv1(x2))\n",
    "        x2 = self.net_pool(x2)\n",
    "        x2 = F.relu(self.net2_conv2(x2))\n",
    "        x2 = self.net_pool(x2)\n",
    "        x2 = x2.view(-1, image_size // 4 * image_size // 4 * depth[1])\n",
    "        \n",
    "        #将前两部处理得到的张量并列到一起，喂给两层全链接前馈网络，最后输出预测数值\n",
    "        nn = torch.cat((x1, x2), 1)\n",
    "        nn = self.fc1(nn)\n",
    "        nn = F.relu(nn)\n",
    "        nn = self.fc2(nn)\n",
    "        nn = F.relu(nn)\n",
    "        nn = F.dropout(nn, 0.5, training) #以默认为0.5的概率对这一层进行dropout操作\n",
    "        nn = self.fc3(nn)\n",
    "#         nn = torch.round(nn)  # 整数化\n",
    "        return nn\n"
   ]
  },
  {
   "cell_type": "code",
   "execution_count": 147,
   "metadata": {},
   "outputs": [],
   "source": [
    "# 将网络定义为一个预测器，来对加法的结果进行预测，因此用MSE平均平房误差作为我们的损失函数\n",
    "net = MINSTAdder()\n",
    "if use_gpu:\n",
    "    net.cuda()\n",
    "# criterion = nn.MSELoss()          # 均方差\n",
    "criterion = nn.CrossEntropyLoss()    # 交叉熵\n",
    "optimizer = optim.SGD(net.parameters(), lr = 0.01, momentum = 0.9)"
   ]
  },
  {
   "cell_type": "markdown",
   "metadata": {},
   "source": [
    "训练网络部分逻辑"
   ]
  },
  {
   "cell_type": "code",
   "execution_count": 148,
   "metadata": {},
   "outputs": [
    {
     "name": "stdout",
     "output_type": "stream",
     "text": [
      "第0周期, 第(0/938)个撮, 训练误差:3.01, 错误率:100.00%, 校验误差：1.62, 校验错误率：97.41%\n",
      "第0周期, 第(300/938)个撮, 训练误差:2.84, 错误率:91.15%, 校验误差：1.62, 校验错误率：89.22%\n",
      "第0周期, 第(600/938)个撮, 训练误差:2.78, 错误率:90.06%, 校验误差：1.62, 校验错误率：86.65%\n",
      "第0周期, 第(900/938)个撮, 训练误差:2.63, 错误率:87.72%, 校验误差：1.62, 校验错误率：79.91%\n",
      "第1周期, 第(0/938)个撮, 训练误差:2.24, 错误率:87.50%, 校验误差：1.62, 校验错误率：79.81%\n",
      "第1周期, 第(300/938)个撮, 训练误差:1.96, 错误率:72.19%, 校验误差：1.62, 校验错误率：62.82%\n",
      "第1周期, 第(600/938)个撮, 训练误差:1.70, 错误率:60.93%, 校验误差：1.62, 校验错误率：38.75%\n",
      "第1周期, 第(900/938)个撮, 训练误差:1.44, 错误率:50.27%, 校验误差：1.62, 校验错误率：26.68%\n",
      "第2周期, 第(0/938)个撮, 训练误差:0.97, 错误率:26.56%, 校验误差：1.62, 校验错误率：26.21%\n",
      "第2周期, 第(300/938)个撮, 训练误差:0.65, 错误率:19.38%, 校验误差：1.62, 校验错误率：19.30%\n",
      "第2周期, 第(600/938)个撮, 训练误差:0.59, 错误率:17.63%, 校验误差：1.62, 校验错误率：14.81%\n",
      "第2周期, 第(900/938)个撮, 训练误差:0.55, 错误率:16.30%, 校验误差：1.62, 校验错误率：13.35%\n",
      "第3周期, 第(0/938)个撮, 训练误差:0.63, 错误率:15.62%, 校验误差：1.62, 校验错误率：14.85%\n",
      "第3周期, 第(300/938)个撮, 训练误差:0.40, 错误率:11.64%, 校验误差：1.62, 校验错误率：11.37%\n",
      "第3周期, 第(600/938)个撮, 训练误差:0.38, 错误率:10.74%, 校验误差：1.62, 校验错误率：12.62%\n",
      "第3周期, 第(900/938)个撮, 训练误差:0.36, 错误率:10.26%, 校验误差：1.62, 校验错误率：9.63%\n",
      "第4周期, 第(0/938)个撮, 训练误差:0.45, 错误率:18.75%, 校验误差：1.62, 校验错误率：10.62%\n",
      "第4周期, 第(300/938)个撮, 训练误差:0.31, 错误率:8.48%, 校验误差：1.62, 校验错误率：9.16%\n",
      "第4周期, 第(600/938)个撮, 训练误差:0.29, 错误率:8.18%, 校验误差：1.62, 校验错误率：8.70%\n",
      "第4周期, 第(900/938)个撮, 训练误差:0.28, 错误率:7.81%, 校验误差：1.62, 校验错误率：8.01%\n",
      "第5周期, 第(0/938)个撮, 训练误差:0.13, 错误率:3.12%, 校验误差：1.62, 校验错误率：8.60%\n",
      "第5周期, 第(300/938)个撮, 训练误差:0.25, 错误率:6.89%, 校验误差：1.62, 校验错误率：8.33%\n",
      "第5周期, 第(600/938)个撮, 训练误差:0.24, 错误率:6.71%, 校验误差：1.62, 校验错误率：8.03%\n",
      "第5周期, 第(900/938)个撮, 训练误差:0.24, 错误率:6.66%, 校验误差：1.62, 校验错误率：8.03%\n"
     ]
    }
   ],
   "source": [
    "# 错误率（有多少数字给出了严格的正确输出结果）\n",
    "def error_rate(output, target):\n",
    "    _, yy = torch.max(output, 1)\n",
    "    yy = yy.type(torch.LongTensor).data.numpy()\n",
    "#     yy = torch.round(output).type(torch.LongTensor).data.numpy().reshape(-1)\n",
    "    tt = target.type(torch.LongTensor).data.numpy()\n",
    "    return(100.0 - np.sum(yy == tt) / yy.size * 100.0)\n",
    "\n",
    "\n",
    "# 校验模型\n",
    "def eval_net(input1, input2):\n",
    "    global net, criterion, use_gpu\n",
    "    net.eval()\n",
    "    losses = []\n",
    "    errors = []\n",
    "    for _, data in enumerate(zip(input1, input2)):\n",
    "        ((x1, y1), (x2, y2)) = data\n",
    "        if use_gpu:\n",
    "            x1 = Variable(x1).cuda()\n",
    "            x2 = Variable(x2).cuda()\n",
    "            labels = Variable((y1 + y2)).cuda()\n",
    "        else:\n",
    "            x1 = Variable(x1)\n",
    "            x2 = Variable(x2)\n",
    "            labels = Variable((y1 + y2))\n",
    "            \n",
    "        outputs = net(x1,x2)\n",
    "        loss = criterion(outputs, labels)\n",
    "        losses.append(loss.data.cpu().numpy() if use_gpu else loss.data.numpy())\n",
    "        error = error_rate(outputs, labels)\n",
    "        errors.append(error)\n",
    "    return (losses, errors)\n",
    "            \n",
    "def need_stop(train_er, val_er):\n",
    "    # 通过移动平均值判断是否符合停止条件\n",
    "    tmm10=train_er[-10:].mean()\n",
    "    vmm10=val_er[-10:].mean()\n",
    "    tmm20=train_er[-20:].mean()\n",
    "    vmm20=val_er[-20:].mean()\n",
    "    d = 0.1\n",
    "    if len(train_er) >=10 and tmm10 < vmm10:\n",
    "        # 过拟合\n",
    "        return True\n",
    "    if len(train_er) >=20 and (tmm20 - tmm10) < d:\n",
    "        # 错误率长时间无变化\n",
    "        return True\n",
    "    return False\n",
    "\n",
    "    \n",
    "# 开始训练循环，本部分代码需要补齐\n",
    "training_epochs = 100  #训练的总循环周期\n",
    "records=[]\n",
    "for epoch in range(training_epochs):\n",
    "    losses = []\n",
    "    errors = []\n",
    "    # 一个关键技术难点是对两个数据加载器进行读取成对儿的数据。我们的办法是通过zip命令，将loader1和2并列在一起，一对一对的读取数据\n",
    "    for idx, data in enumerate(zip(train_loader1, train_loader2)):\n",
    "        ((x1, y1), (x2, y2)) = data\n",
    "        if use_gpu:\n",
    "            x1 = Variable(x1).cuda()\n",
    "            x2 = Variable(x2).cuda()\n",
    "            labels = Variable((y1 + y2)).cuda()\n",
    "        else:\n",
    "            x1 = Variable(x1)\n",
    "            x2 = Variable(x2)\n",
    "            labels = Variable((y1 + y2))\n",
    "        \n",
    "        # 训练\n",
    "        optimizer.zero_grad()\n",
    "        net.train()\n",
    "        outputs = net(x1, x2)\n",
    "#         print(outputs,labels)\n",
    "        loss = criterion(outputs, labels)\n",
    "        loss.backward()\n",
    "        optimizer.step()\n",
    "        \n",
    "        error = error_rate(outputs, labels)\n",
    "        errors.append(error)\n",
    "        losses.append(loss.data.cpu().numpy() if use_gpu else loss.data.numpy())\n",
    "        \n",
    "        # 每间隔一定周期就打印一下训练集、校验集的准确率结果\n",
    "        if idx % 300 == 0:\n",
    "            loss_mean = np.mean(losses)\n",
    "            error_ratio = np.mean(errors)\n",
    "            \n",
    "            (val_losses, val_error_ratios)=eval_net(val_loader1, val_loader2)\n",
    "            val_loss = np.mean(val_losses)\n",
    "            val_error_ratio = np.mean(val_error_ratios)\n",
    "#             print(losses)\n",
    "            \n",
    "            print('第{}周期, 第({}/{})个撮, 训练误差:{:.2f}, 错误率:{:.2f}%, 校验误差：{:.2f}, 校验错误率：{:.2f}%'\n",
    "                  .format(epoch, idx, len(train_loader1), loss_mean, error_ratio, val_loss_mean, val_error_ratio))\n",
    "            \n",
    "            records.append([loss_mean, error_ratio, val_loss_mean, val_error_ratio])\n",
    "    \n",
    "    if need_stop(np.array(records)[:,1], np.array(records)[:,3]):\n",
    "        break"
   ]
  },
  {
   "cell_type": "code",
   "execution_count": 149,
   "metadata": {},
   "outputs": [
    {
     "data": {
      "text/plain": [
       "<matplotlib.legend.Legend at 0x7f12eb3c26a0>"
      ]
     },
     "execution_count": 149,
     "metadata": {},
     "output_type": "execute_result"
    },
    {
     "data": {
      "image/png": "[encoded data removed]",
      "text/plain": [
       "<matplotlib.figure.Figure at 0x7f12eb63cc50>"
      ]
     },
     "metadata": {},
     "output_type": "display_data"
    }
   ],
   "source": [
    "## 训练数据与校验数据错误率曲线\n",
    "plt.plot(np.arange(len(records)), np.array(records)[:,1] / 100.0, label = 'Train Error Rate')\n",
    "plt.plot(np.arange(len(records)), np.array(records)[:,3] / 100.0, label = 'Val Error Rate')\n",
    "plt.xlabel('epoch')\n",
    "plt.ylabel('Error rates')\n",
    "plt.legend()"
   ]
  },
  {
   "cell_type": "code",
   "execution_count": 150,
   "metadata": {},
   "outputs": [
    {
     "name": "stdout",
     "output_type": "stream",
     "text": [
      "测试集错误率:0.04% 正确率:99.96%\n"
     ]
    },
    {
     "data": {
      "image/png": "[encoded data removed]",
      "text/plain": [
       "<matplotlib.figure.Figure at 0x7f12eb2640b8>"
      ]
     },
     "metadata": {},
     "output_type": "display_data"
    }
   ],
   "source": [
    "# 在测试集上运行我们的加法机网络，并测试预测准确度\n",
    "\n",
    "(losses, errors)=eval_net(test_loader1, test_loader2)\n",
    "plt.plot(np.arange(len(errors)), np.array(errors) / 100.0, label = 'Test Error Rate')\n",
    "plt.plot(np.arange(len(errors)), np.ones(len(errors))*np.mean(errors) / 100.0, label = 'Mean Error Rate')\n",
    "plt.xlabel('epoch')\n",
    "plt.ylabel('Error rates')\n",
    "plt.legend()\n",
    "\n",
    "test_er=np.mean(errors)/100\n",
    "print(\"测试集错误率:{:.2f}% 正确率:{:.2f}%\".format(test_er, 100.0-test_er))"
   ]
  },
  {
   "cell_type": "markdown",
   "metadata": {
    "collapsed": true
   },
   "source": [
    "### 作业与实验总结\n",
    "\n",
    "* 分类模型将正确率做到 99.96%\n",
    "* 分类方法比预测方法正确率提高明显，预测方法在50%左右；\n",
    "* 通过比对模型在验证集与训练集上的表现来停止训练；\n",
    "* 使用GPU加速；\n",
    "* 目前GPU使用率不高，怀疑是频繁数据拷贝导致，可以考虑通过一次将数据加载入GPU增加训练速度；"
   ]
  },
  {
   "cell_type": "code",
   "execution_count": null,
   "metadata": {
    "collapsed": true
   },
   "outputs": [],
   "source": []
  }
 ],
 "metadata": {
  "kernelspec": {
   "display_name": "Python 3",
   "language": "python",
   "name": "python3"
  },
  "language_info": {
   "codemirror_mode": {
    "name": "ipython",
    "version": 3
   },
   "file_extension": ".py",
   "mimetype": "text/x-python",
   "name": "python",
   "nbconvert_exporter": "python",
   "pygments_lexer": "ipython3",
   "version": "3.6.2"
  }
 },
 "nbformat": 4,
 "nbformat_minor": 2
}
